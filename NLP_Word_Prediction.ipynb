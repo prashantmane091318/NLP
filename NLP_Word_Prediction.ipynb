{
  "nbformat": 4,
  "nbformat_minor": 0,
  "metadata": {
    "colab": {
      "provenance": [],
      "authorship_tag": "ABX9TyMzBZl6VUxGQpN/GKk1XDvd",
      "include_colab_link": true
    },
    "kernelspec": {
      "name": "python3",
      "display_name": "Python 3"
    }
  },
  "cells": [
    {
      "cell_type": "markdown",
      "metadata": {
        "id": "view-in-github",
        "colab_type": "text"
      },
      "source": [
        "<a href=\"https://colab.research.google.com/github/prashantmane091318/NLP/blob/main/NLP_Word_Prediction.ipynb\" target=\"_parent\"><img src=\"https://colab.research.google.com/assets/colab-badge.svg\" alt=\"Open In Colab\"/></a>"
      ]
    },
    {
      "cell_type": "code",
      "metadata": {
        "id": "0a6-sMTR4iFQ"
      },
      "source": [
        "import tensorflow as tf"
      ],
      "execution_count": null,
      "outputs": []
    },
    {
      "cell_type": "code",
      "metadata": {
        "id": "kz0WVjYU6a54"
      },
      "source": [
        "from tensorflow.keras.preprocessing.text import Tokenizer"
      ],
      "execution_count": null,
      "outputs": []
    },
    {
      "cell_type": "code",
      "metadata": {
        "id": "edPtX6_v6hUf"
      },
      "source": [
        "from tensorflow.keras.preprocessing.sequence import pad_sequences"
      ],
      "execution_count": null,
      "outputs": []
    },
    {
      "cell_type": "code",
      "metadata": {
        "id": "i0dGcLaL6nuM"
      },
      "source": [
        "data=\"in the one town of athy one jersey langing\\n battered away till he didnt find\\n akshay working as engineer\\n akshay gone mad\""
      ],
      "execution_count": null,
      "outputs": []
    },
    {
      "cell_type": "code",
      "metadata": {
        "id": "MYQqgJ5U7SgY"
      },
      "source": [
        "corpous=data.lower().split(\"\\n\")"
      ],
      "execution_count": null,
      "outputs": []
    },
    {
      "cell_type": "code",
      "metadata": {
        "id": "8hSwVe6A7bZr",
        "colab": {
          "base_uri": "https://localhost:8080/"
        },
        "outputId": "7948b271-bde5-44cf-a1b8-21571765d6ea"
      },
      "source": [
        "corpous"
      ],
      "execution_count": null,
      "outputs": [
        {
          "output_type": "execute_result",
          "data": {
            "text/plain": [
              "['in the one town of athy one jersey langing',\n",
              " ' battered away till he didnt find',\n",
              " ' akshay working as engineer',\n",
              " ' akshay gone mad']"
            ]
          },
          "metadata": {
            "tags": []
          },
          "execution_count": 16
        }
      ]
    },
    {
      "cell_type": "code",
      "metadata": {
        "id": "QZB1eaOu7fIT"
      },
      "source": [
        "t1=Tokenizer()"
      ],
      "execution_count": null,
      "outputs": []
    },
    {
      "cell_type": "code",
      "metadata": {
        "colab": {
          "base_uri": "https://localhost:8080/"
        },
        "id": "qbeytKpj-Quy",
        "outputId": "a9908130-7546-4562-826d-b67db8195460"
      },
      "source": [
        "t1"
      ],
      "execution_count": null,
      "outputs": [
        {
          "output_type": "execute_result",
          "data": {
            "text/plain": [
              "<keras_preprocessing.text.Tokenizer at 0x7f8c66e0dcc0>"
            ]
          },
          "metadata": {
            "tags": []
          },
          "execution_count": 8
        }
      ]
    },
    {
      "cell_type": "code",
      "metadata": {
        "id": "7gjeXbEQ7r94"
      },
      "source": [
        "t1.fit_on_texts(corpous)"
      ],
      "execution_count": null,
      "outputs": []
    },
    {
      "cell_type": "code",
      "metadata": {
        "colab": {
          "base_uri": "https://localhost:8080/"
        },
        "id": "hxDq1kVO-Xv0",
        "outputId": "df53d771-bae3-4890-e01f-6a5eb8c1d1b4"
      },
      "source": [
        "t1"
      ],
      "execution_count": null,
      "outputs": [
        {
          "output_type": "execute_result",
          "data": {
            "text/plain": [
              "<keras_preprocessing.text.Tokenizer at 0x7f8c66e0dcc0>"
            ]
          },
          "metadata": {
            "tags": []
          },
          "execution_count": 10
        }
      ]
    },
    {
      "cell_type": "code",
      "metadata": {
        "id": "_iL37Rf57vax"
      },
      "source": [
        "word_count=len(t1.word_index)+1"
      ],
      "execution_count": null,
      "outputs": []
    },
    {
      "cell_type": "code",
      "metadata": {
        "id": "NyIkzxt_9sGZ"
      },
      "source": [
        "seqq=t1.texts_to_sequences(corpous)"
      ],
      "execution_count": null,
      "outputs": []
    },
    {
      "cell_type": "code",
      "metadata": {
        "id": "GDzqNMhD97Pl",
        "colab": {
          "base_uri": "https://localhost:8080/"
        },
        "outputId": "848e7d13-365a-4e69-c369-d2923bbf6145"
      },
      "source": [
        "seqq"
      ],
      "execution_count": null,
      "outputs": [
        {
          "output_type": "execute_result",
          "data": {
            "text/plain": [
              "[[3, 4, 2, 5, 6, 7, 2, 8, 9],\n",
              " [10, 11, 12, 13, 14, 15],\n",
              " [1, 16, 17, 18],\n",
              " [1, 19, 20]]"
            ]
          },
          "metadata": {
            "tags": []
          },
          "execution_count": 19
        }
      ]
    },
    {
      "cell_type": "code",
      "metadata": {
        "id": "OYG1l5rc98ds"
      },
      "source": [
        "input_sequneces=[]\n",
        "for line in seqq:\n",
        "  for i in range(1,len(line)):\n",
        "    n_gram_tokens=line[:i+1]\n",
        "    input_sequneces.append(n_gram_tokens)"
      ],
      "execution_count": null,
      "outputs": []
    },
    {
      "cell_type": "code",
      "metadata": {
        "id": "zGrQVd-v_5Ho",
        "colab": {
          "base_uri": "https://localhost:8080/",
          "height": 329
        },
        "outputId": "0938fd6b-ea00-4eda-eb2c-63accf9fb5a7"
      },
      "source": [
        "input_sequneces"
      ],
      "execution_count": null,
      "outputs": [
        {
          "output_type": "execute_result",
          "data": {
            "text/plain": [
              "[[2, 3],\n",
              " [2, 3, 4],\n",
              " [2, 3, 4, 5],\n",
              " [2, 3, 4, 5, 6],\n",
              " [2, 3, 4, 5, 6, 7],\n",
              " [2, 3, 4, 5, 6, 7, 8],\n",
              " [2, 3, 4, 5, 6, 7, 8, 9],\n",
              " [10, 11],\n",
              " [10, 11, 12],\n",
              " [10, 11, 12, 13],\n",
              " [10, 11, 12, 13, 14],\n",
              " [10, 11, 12, 13, 14, 15],\n",
              " [1, 16],\n",
              " [1, 16, 17],\n",
              " [1, 16, 17, 18],\n",
              " [1, 19],\n",
              " [1, 19, 20]]"
            ]
          },
          "metadata": {
            "tags": []
          },
          "execution_count": 20
        }
      ]
    },
    {
      "cell_type": "code",
      "metadata": {
        "id": "GezNIu37_7Fq"
      },
      "source": [
        "maxlen=max(len(x) for x in input_sequneces)"
      ],
      "execution_count": null,
      "outputs": []
    },
    {
      "cell_type": "code",
      "metadata": {
        "id": "smM-XhEuAS-G",
        "colab": {
          "base_uri": "https://localhost:8080/",
          "height": 35
        },
        "outputId": "9700d4b0-ec49-443b-8fad-ac476574e605"
      },
      "source": [
        "maxlen"
      ],
      "execution_count": null,
      "outputs": [
        {
          "output_type": "execute_result",
          "data": {
            "text/plain": [
              "8"
            ]
          },
          "metadata": {
            "tags": []
          },
          "execution_count": 23
        }
      ]
    },
    {
      "cell_type": "code",
      "metadata": {
        "id": "vov2cUFkAcEF"
      },
      "source": [
        "pad_input=pad_sequences(input_sequneces,padding=\"pre\",maxlen=maxlen-1)"
      ],
      "execution_count": null,
      "outputs": []
    },
    {
      "cell_type": "code",
      "metadata": {
        "id": "AinsDp7AAYz3",
        "colab": {
          "base_uri": "https://localhost:8080/",
          "height": 329
        },
        "outputId": "d17ab1f7-f972-4028-98ca-eab4b6d09ed7"
      },
      "source": [
        "pad_input"
      ],
      "execution_count": null,
      "outputs": [
        {
          "output_type": "execute_result",
          "data": {
            "text/plain": [
              "array([[ 0,  0,  0,  0,  0,  2,  3],\n",
              "       [ 0,  0,  0,  0,  2,  3,  4],\n",
              "       [ 0,  0,  0,  2,  3,  4,  5],\n",
              "       [ 0,  0,  2,  3,  4,  5,  6],\n",
              "       [ 0,  2,  3,  4,  5,  6,  7],\n",
              "       [ 2,  3,  4,  5,  6,  7,  8],\n",
              "       [ 3,  4,  5,  6,  7,  8,  9],\n",
              "       [ 0,  0,  0,  0,  0, 10, 11],\n",
              "       [ 0,  0,  0,  0, 10, 11, 12],\n",
              "       [ 0,  0,  0, 10, 11, 12, 13],\n",
              "       [ 0,  0, 10, 11, 12, 13, 14],\n",
              "       [ 0, 10, 11, 12, 13, 14, 15],\n",
              "       [ 0,  0,  0,  0,  0,  1, 16],\n",
              "       [ 0,  0,  0,  0,  1, 16, 17],\n",
              "       [ 0,  0,  0,  1, 16, 17, 18],\n",
              "       [ 0,  0,  0,  0,  0,  1, 19],\n",
              "       [ 0,  0,  0,  0,  1, 19, 20]], dtype=int32)"
            ]
          },
          "metadata": {
            "tags": []
          },
          "execution_count": 73
        }
      ]
    },
    {
      "cell_type": "code",
      "metadata": {
        "id": "BKcZo6IqAp-E"
      },
      "source": [
        "xs,labels=pad_input[:,:-1],pad_input[:,-1]"
      ],
      "execution_count": null,
      "outputs": []
    },
    {
      "cell_type": "code",
      "metadata": {
        "id": "dHg5eVcIBS4U",
        "colab": {
          "base_uri": "https://localhost:8080/",
          "height": 329
        },
        "outputId": "d3401ba9-9a63-408b-87c0-e1b219291c38"
      },
      "source": [
        "xs"
      ],
      "execution_count": null,
      "outputs": [
        {
          "output_type": "execute_result",
          "data": {
            "text/plain": [
              "array([[ 0,  0,  0,  0,  0,  2],\n",
              "       [ 0,  0,  0,  0,  2,  3],\n",
              "       [ 0,  0,  0,  2,  3,  4],\n",
              "       [ 0,  0,  2,  3,  4,  5],\n",
              "       [ 0,  2,  3,  4,  5,  6],\n",
              "       [ 2,  3,  4,  5,  6,  7],\n",
              "       [ 3,  4,  5,  6,  7,  8],\n",
              "       [ 0,  0,  0,  0,  0, 10],\n",
              "       [ 0,  0,  0,  0, 10, 11],\n",
              "       [ 0,  0,  0, 10, 11, 12],\n",
              "       [ 0,  0, 10, 11, 12, 13],\n",
              "       [ 0, 10, 11, 12, 13, 14],\n",
              "       [ 0,  0,  0,  0,  0,  1],\n",
              "       [ 0,  0,  0,  0,  1, 16],\n",
              "       [ 0,  0,  0,  1, 16, 17],\n",
              "       [ 0,  0,  0,  0,  0,  1],\n",
              "       [ 0,  0,  0,  0,  1, 19]], dtype=int32)"
            ]
          },
          "metadata": {
            "tags": []
          },
          "execution_count": 75
        }
      ]
    },
    {
      "cell_type": "code",
      "metadata": {
        "id": "OZeeDuUVBTpW",
        "colab": {
          "base_uri": "https://localhost:8080/",
          "height": 54
        },
        "outputId": "0c987c93-1403-4ce3-f53c-2f96caf17b93"
      },
      "source": [
        "labels"
      ],
      "execution_count": null,
      "outputs": [
        {
          "output_type": "execute_result",
          "data": {
            "text/plain": [
              "array([ 3,  4,  5,  6,  7,  8,  9, 11, 12, 13, 14, 15, 16, 17, 18, 19, 20],\n",
              "      dtype=int32)"
            ]
          },
          "metadata": {
            "tags": []
          },
          "execution_count": 76
        }
      ]
    },
    {
      "cell_type": "code",
      "metadata": {
        "id": "I30AFIgxBpuZ"
      },
      "source": [
        "ys=tf.keras.utils.to_categorical(labels,num_classes=word_count)"
      ],
      "execution_count": null,
      "outputs": []
    },
    {
      "cell_type": "code",
      "metadata": {
        "id": "6GwXyeu6CB8H",
        "colab": {
          "base_uri": "https://localhost:8080/",
          "height": 35
        },
        "outputId": "dbf94c2a-a46c-4869-dee6-0cf942ad882d"
      },
      "source": [
        "ys.shape"
      ],
      "execution_count": null,
      "outputs": [
        {
          "output_type": "execute_result",
          "data": {
            "text/plain": [
              "(17, 21)"
            ]
          },
          "metadata": {
            "tags": []
          },
          "execution_count": 51
        }
      ]
    },
    {
      "cell_type": "code",
      "metadata": {
        "id": "7QipojW4CDGr",
        "colab": {
          "base_uri": "https://localhost:8080/",
          "height": 35
        },
        "outputId": "7c033f00-8c17-4139-d412-77928179cd5d"
      },
      "source": [
        "xs.shape"
      ],
      "execution_count": null,
      "outputs": [
        {
          "output_type": "execute_result",
          "data": {
            "text/plain": [
              "(17, 7)"
            ]
          },
          "metadata": {
            "tags": []
          },
          "execution_count": 39
        }
      ]
    },
    {
      "cell_type": "code",
      "metadata": {
        "id": "9LRlKHO0C_ji",
        "colab": {
          "base_uri": "https://localhost:8080/",
          "height": 35
        },
        "outputId": "2f860003-9843-4013-aa7c-c62bc368a1ef"
      },
      "source": [
        "xs[5]"
      ],
      "execution_count": null,
      "outputs": [
        {
          "output_type": "execute_result",
          "data": {
            "text/plain": [
              "array([0, 2, 3, 4, 5, 6, 7], dtype=int32)"
            ]
          },
          "metadata": {
            "tags": []
          },
          "execution_count": 40
        }
      ]
    },
    {
      "cell_type": "code",
      "metadata": {
        "id": "9DCi27k9DU43",
        "colab": {
          "base_uri": "https://localhost:8080/",
          "height": 54
        },
        "outputId": "a72a1574-f233-4683-a097-a147e797dd81"
      },
      "source": [
        "ys[5]"
      ],
      "execution_count": null,
      "outputs": [
        {
          "output_type": "execute_result",
          "data": {
            "text/plain": [
              "array([0., 0., 0., 0., 0., 0., 0., 0., 1., 0., 0., 0., 0., 0., 0., 0., 0.,\n",
              "       0., 0., 0., 0.], dtype=float32)"
            ]
          },
          "metadata": {
            "tags": []
          },
          "execution_count": 41
        }
      ]
    },
    {
      "cell_type": "code",
      "metadata": {
        "id": "NdYTswUuDXgO"
      },
      "source": [
        "model=tf.keras.models.Sequential()"
      ],
      "execution_count": null,
      "outputs": []
    },
    {
      "cell_type": "code",
      "metadata": {
        "id": "ilRmwjOsD9Xt"
      },
      "source": [
        "from tensorflow.keras.layers import LSTM,Dense,Embedding,Bidirectional"
      ],
      "execution_count": null,
      "outputs": []
    },
    {
      "cell_type": "code",
      "metadata": {
        "id": "vmr38q9FEMOX"
      },
      "source": [
        "model.add(Embedding(word_count,64,input_length=maxlen))"
      ],
      "execution_count": null,
      "outputs": []
    },
    {
      "cell_type": "code",
      "metadata": {
        "id": "Ef2x0NrgEbD-"
      },
      "source": [
        "model.add(Bidirectional(LSTM(64)))"
      ],
      "execution_count": null,
      "outputs": []
    },
    {
      "cell_type": "code",
      "metadata": {
        "id": "GmbcZd-TEpQd"
      },
      "source": [
        "model.add(Dense(word_count,activation=\"softmax\"))"
      ],
      "execution_count": null,
      "outputs": []
    },
    {
      "cell_type": "code",
      "metadata": {
        "id": "0lI5HgEGFI7W",
        "colab": {
          "base_uri": "https://localhost:8080/",
          "height": 274
        },
        "outputId": "54394381-488b-42eb-bc61-e06afb2b45d0"
      },
      "source": [
        "model.summary()"
      ],
      "execution_count": null,
      "outputs": [
        {
          "output_type": "stream",
          "text": [
            "Model: \"sequential_1\"\n",
            "_________________________________________________________________\n",
            "Layer (type)                 Output Shape              Param #   \n",
            "=================================================================\n",
            "embedding_1 (Embedding)      (None, 8, 64)             1344      \n",
            "_________________________________________________________________\n",
            "bidirectional_1 (Bidirection (None, 128)               66048     \n",
            "_________________________________________________________________\n",
            "dense_1 (Dense)              (None, 21)                2709      \n",
            "=================================================================\n",
            "Total params: 70,101\n",
            "Trainable params: 70,101\n",
            "Non-trainable params: 0\n",
            "_________________________________________________________________\n"
          ],
          "name": "stdout"
        }
      ]
    },
    {
      "cell_type": "code",
      "metadata": {
        "id": "YRXK3hFZFK0o"
      },
      "source": [
        "model.compile(optimizer=\"adam\",loss=\"categorical_crossentropy\",metrics=[\"accuracy\"])"
      ],
      "execution_count": null,
      "outputs": []
    },
    {
      "cell_type": "code",
      "metadata": {
        "id": "-XhbyvPIFXdV",
        "colab": {
          "base_uri": "https://localhost:8080/",
          "height": 1000
        },
        "outputId": "32bf176a-3d85-4299-bc9f-ec22b6661e82"
      },
      "source": [
        "model.fit(xs,ys,batch_size=32,epochs=500)"
      ],
      "execution_count": null,
      "outputs": [
        {
          "output_type": "stream",
          "text": [
            "Epoch 1/500\n",
            "WARNING:tensorflow:Model was constructed with shape (None, 8) for input Tensor(\"embedding_1_input:0\", shape=(None, 8), dtype=float32), but it was called on an input with incompatible shape (None, 6).\n",
            "WARNING:tensorflow:Model was constructed with shape (None, 8) for input Tensor(\"embedding_1_input:0\", shape=(None, 8), dtype=float32), but it was called on an input with incompatible shape (None, 6).\n",
            "1/1 [==============================] - 0s 2ms/step - loss: 3.0446 - accuracy: 0.1176\n",
            "Epoch 2/500\n",
            "1/1 [==============================] - 0s 1ms/step - loss: 3.0387 - accuracy: 0.0588\n",
            "Epoch 3/500\n",
            "1/1 [==============================] - 0s 2ms/step - loss: 3.0327 - accuracy: 0.1765\n",
            "Epoch 4/500\n",
            "1/1 [==============================] - 0s 1ms/step - loss: 3.0267 - accuracy: 0.1765\n",
            "Epoch 5/500\n",
            "1/1 [==============================] - 0s 1ms/step - loss: 3.0206 - accuracy: 0.1765\n",
            "Epoch 6/500\n",
            "1/1 [==============================] - 0s 1ms/step - loss: 3.0143 - accuracy: 0.1765\n",
            "Epoch 7/500\n",
            "1/1 [==============================] - 0s 1ms/step - loss: 3.0078 - accuracy: 0.2941\n",
            "Epoch 8/500\n",
            "1/1 [==============================] - 0s 2ms/step - loss: 3.0009 - accuracy: 0.2353\n",
            "Epoch 9/500\n",
            "1/1 [==============================] - 0s 2ms/step - loss: 2.9936 - accuracy: 0.2353\n",
            "Epoch 10/500\n",
            "1/1 [==============================] - 0s 2ms/step - loss: 2.9859 - accuracy: 0.2353\n",
            "Epoch 11/500\n",
            "1/1 [==============================] - 0s 1ms/step - loss: 2.9775 - accuracy: 0.2353\n",
            "Epoch 12/500\n",
            "1/1 [==============================] - 0s 1ms/step - loss: 2.9686 - accuracy: 0.2353\n",
            "Epoch 13/500\n",
            "1/1 [==============================] - 0s 1ms/step - loss: 2.9589 - accuracy: 0.2353\n",
            "Epoch 14/500\n",
            "1/1 [==============================] - 0s 1ms/step - loss: 2.9484 - accuracy: 0.2353\n",
            "Epoch 15/500\n",
            "1/1 [==============================] - 0s 1ms/step - loss: 2.9370 - accuracy: 0.2353\n",
            "Epoch 16/500\n",
            "1/1 [==============================] - 0s 1ms/step - loss: 2.9246 - accuracy: 0.2353\n",
            "Epoch 17/500\n",
            "1/1 [==============================] - 0s 2ms/step - loss: 2.9111 - accuracy: 0.2353\n",
            "Epoch 18/500\n",
            "1/1 [==============================] - 0s 2ms/step - loss: 2.8964 - accuracy: 0.2353\n",
            "Epoch 19/500\n",
            "1/1 [==============================] - 0s 1ms/step - loss: 2.8803 - accuracy: 0.2353\n",
            "Epoch 20/500\n",
            "1/1 [==============================] - 0s 1ms/step - loss: 2.8628 - accuracy: 0.1765\n",
            "Epoch 21/500\n",
            "1/1 [==============================] - 0s 2ms/step - loss: 2.8437 - accuracy: 0.1765\n",
            "Epoch 22/500\n",
            "1/1 [==============================] - 0s 1ms/step - loss: 2.8231 - accuracy: 0.1765\n",
            "Epoch 23/500\n",
            "1/1 [==============================] - 0s 2ms/step - loss: 2.8007 - accuracy: 0.1765\n",
            "Epoch 24/500\n",
            "1/1 [==============================] - 0s 3ms/step - loss: 2.7767 - accuracy: 0.1176\n",
            "Epoch 25/500\n",
            "1/1 [==============================] - 0s 2ms/step - loss: 2.7510 - accuracy: 0.0588\n",
            "Epoch 26/500\n",
            "1/1 [==============================] - 0s 1ms/step - loss: 2.7238 - accuracy: 0.0588\n",
            "Epoch 27/500\n",
            "1/1 [==============================] - 0s 3ms/step - loss: 2.6952 - accuracy: 0.0588\n",
            "Epoch 28/500\n",
            "1/1 [==============================] - 0s 2ms/step - loss: 2.6653 - accuracy: 0.0588\n",
            "Epoch 29/500\n",
            "1/1 [==============================] - 0s 2ms/step - loss: 2.6341 - accuracy: 0.0588\n",
            "Epoch 30/500\n",
            "1/1 [==============================] - 0s 2ms/step - loss: 2.6017 - accuracy: 0.0588\n",
            "Epoch 31/500\n",
            "1/1 [==============================] - 0s 1ms/step - loss: 2.5678 - accuracy: 0.1176\n",
            "Epoch 32/500\n",
            "1/1 [==============================] - 0s 2ms/step - loss: 2.5320 - accuracy: 0.1176\n",
            "Epoch 33/500\n",
            "1/1 [==============================] - 0s 1ms/step - loss: 2.4940 - accuracy: 0.1176\n",
            "Epoch 34/500\n",
            "1/1 [==============================] - 0s 1ms/step - loss: 2.4533 - accuracy: 0.1176\n",
            "Epoch 35/500\n",
            "1/1 [==============================] - 0s 1ms/step - loss: 2.4099 - accuracy: 0.1176\n",
            "Epoch 36/500\n",
            "1/1 [==============================] - 0s 2ms/step - loss: 2.3637 - accuracy: 0.1176\n",
            "Epoch 37/500\n",
            "1/1 [==============================] - 0s 3ms/step - loss: 2.3147 - accuracy: 0.1765\n",
            "Epoch 38/500\n",
            "1/1 [==============================] - 0s 2ms/step - loss: 2.2631 - accuracy: 0.2941\n",
            "Epoch 39/500\n",
            "1/1 [==============================] - 0s 2ms/step - loss: 2.2090 - accuracy: 0.4118\n",
            "Epoch 40/500\n",
            "1/1 [==============================] - 0s 3ms/step - loss: 2.1527 - accuracy: 0.5294\n",
            "Epoch 41/500\n",
            "1/1 [==============================] - 0s 1ms/step - loss: 2.0944 - accuracy: 0.5294\n",
            "Epoch 42/500\n",
            "1/1 [==============================] - 0s 2ms/step - loss: 2.0342 - accuracy: 0.5294\n",
            "Epoch 43/500\n",
            "1/1 [==============================] - 0s 1ms/step - loss: 1.9726 - accuracy: 0.4706\n",
            "Epoch 44/500\n",
            "1/1 [==============================] - 0s 1ms/step - loss: 1.9101 - accuracy: 0.4706\n",
            "Epoch 45/500\n",
            "1/1 [==============================] - 0s 1ms/step - loss: 1.8475 - accuracy: 0.4118\n",
            "Epoch 46/500\n",
            "1/1 [==============================] - 0s 1ms/step - loss: 1.7852 - accuracy: 0.4118\n",
            "Epoch 47/500\n",
            "1/1 [==============================] - 0s 1ms/step - loss: 1.7240 - accuracy: 0.5294\n",
            "Epoch 48/500\n",
            "1/1 [==============================] - 0s 1ms/step - loss: 1.6643 - accuracy: 0.5882\n",
            "Epoch 49/500\n",
            "1/1 [==============================] - 0s 3ms/step - loss: 1.6061 - accuracy: 0.5882\n",
            "Epoch 50/500\n",
            "1/1 [==============================] - 0s 2ms/step - loss: 1.5494 - accuracy: 0.6471\n",
            "Epoch 51/500\n",
            "1/1 [==============================] - 0s 2ms/step - loss: 1.4943 - accuracy: 0.7059\n",
            "Epoch 52/500\n",
            "1/1 [==============================] - 0s 1ms/step - loss: 1.4406 - accuracy: 0.7059\n",
            "Epoch 53/500\n",
            "1/1 [==============================] - 0s 1ms/step - loss: 1.3884 - accuracy: 0.8235\n",
            "Epoch 54/500\n",
            "1/1 [==============================] - 0s 3ms/step - loss: 1.3379 - accuracy: 0.8235\n",
            "Epoch 55/500\n",
            "1/1 [==============================] - 0s 1ms/step - loss: 1.2889 - accuracy: 0.8235\n",
            "Epoch 56/500\n",
            "1/1 [==============================] - 0s 4ms/step - loss: 1.2415 - accuracy: 0.8235\n",
            "Epoch 57/500\n",
            "1/1 [==============================] - 0s 3ms/step - loss: 1.1955 - accuracy: 0.8235\n",
            "Epoch 58/500\n",
            "1/1 [==============================] - 0s 3ms/step - loss: 1.1507 - accuracy: 0.8824\n",
            "Epoch 59/500\n",
            "1/1 [==============================] - 0s 4ms/step - loss: 1.1069 - accuracy: 0.8824\n",
            "Epoch 60/500\n",
            "1/1 [==============================] - 0s 3ms/step - loss: 1.0639 - accuracy: 0.8824\n",
            "Epoch 61/500\n",
            "1/1 [==============================] - 0s 1ms/step - loss: 1.0216 - accuracy: 0.8824\n",
            "Epoch 62/500\n",
            "1/1 [==============================] - 0s 2ms/step - loss: 0.9800 - accuracy: 0.8824\n",
            "Epoch 63/500\n",
            "1/1 [==============================] - 0s 4ms/step - loss: 0.9393 - accuracy: 0.8235\n",
            "Epoch 64/500\n",
            "1/1 [==============================] - 0s 3ms/step - loss: 0.8993 - accuracy: 0.8235\n",
            "Epoch 65/500\n",
            "1/1 [==============================] - 0s 3ms/step - loss: 0.8601 - accuracy: 0.8235\n",
            "Epoch 66/500\n",
            "1/1 [==============================] - 0s 1ms/step - loss: 0.8216 - accuracy: 0.8235\n",
            "Epoch 67/500\n",
            "1/1 [==============================] - 0s 2ms/step - loss: 0.7839 - accuracy: 0.8824\n",
            "Epoch 68/500\n",
            "1/1 [==============================] - 0s 1ms/step - loss: 0.7471 - accuracy: 0.8824\n",
            "Epoch 69/500\n",
            "1/1 [==============================] - 0s 1ms/step - loss: 0.7114 - accuracy: 0.9412\n",
            "Epoch 70/500\n",
            "1/1 [==============================] - 0s 2ms/step - loss: 0.6767 - accuracy: 0.9412\n",
            "Epoch 71/500\n",
            "1/1 [==============================] - 0s 1ms/step - loss: 0.6431 - accuracy: 0.9412\n",
            "Epoch 72/500\n",
            "1/1 [==============================] - 0s 2ms/step - loss: 0.6106 - accuracy: 0.9412\n",
            "Epoch 73/500\n",
            "1/1 [==============================] - 0s 1ms/step - loss: 0.5792 - accuracy: 0.9412\n",
            "Epoch 74/500\n",
            "1/1 [==============================] - 0s 2ms/step - loss: 0.5491 - accuracy: 0.9412\n",
            "Epoch 75/500\n",
            "1/1 [==============================] - 0s 5ms/step - loss: 0.5203 - accuracy: 0.9412\n",
            "Epoch 76/500\n",
            "1/1 [==============================] - 0s 2ms/step - loss: 0.4930 - accuracy: 0.9412\n",
            "Epoch 77/500\n",
            "1/1 [==============================] - 0s 2ms/step - loss: 0.4671 - accuracy: 0.9412\n",
            "Epoch 78/500\n",
            "1/1 [==============================] - 0s 2ms/step - loss: 0.4425 - accuracy: 0.9412\n",
            "Epoch 79/500\n",
            "1/1 [==============================] - 0s 3ms/step - loss: 0.4193 - accuracy: 0.9412\n",
            "Epoch 80/500\n",
            "1/1 [==============================] - 0s 2ms/step - loss: 0.3974 - accuracy: 0.9412\n",
            "Epoch 81/500\n",
            "1/1 [==============================] - 0s 2ms/step - loss: 0.3768 - accuracy: 0.9412\n",
            "Epoch 82/500\n",
            "1/1 [==============================] - 0s 4ms/step - loss: 0.3574 - accuracy: 0.9412\n",
            "Epoch 83/500\n",
            "1/1 [==============================] - 0s 1ms/step - loss: 0.3390 - accuracy: 0.9412\n",
            "Epoch 84/500\n",
            "1/1 [==============================] - 0s 2ms/step - loss: 0.3217 - accuracy: 0.9412\n",
            "Epoch 85/500\n",
            "1/1 [==============================] - 0s 6ms/step - loss: 0.3054 - accuracy: 0.9412\n",
            "Epoch 86/500\n",
            "1/1 [==============================] - 0s 1ms/step - loss: 0.2901 - accuracy: 0.9412\n",
            "Epoch 87/500\n",
            "1/1 [==============================] - 0s 4ms/step - loss: 0.2760 - accuracy: 0.9412\n",
            "Epoch 88/500\n",
            "1/1 [==============================] - 0s 1ms/step - loss: 0.2628 - accuracy: 0.9412\n",
            "Epoch 89/500\n",
            "1/1 [==============================] - 0s 3ms/step - loss: 0.2506 - accuracy: 0.9412\n",
            "Epoch 90/500\n",
            "1/1 [==============================] - 0s 4ms/step - loss: 0.2393 - accuracy: 0.9412\n",
            "Epoch 91/500\n",
            "1/1 [==============================] - 0s 4ms/step - loss: 0.2289 - accuracy: 0.9412\n",
            "Epoch 92/500\n",
            "1/1 [==============================] - 0s 2ms/step - loss: 0.2193 - accuracy: 0.9412\n",
            "Epoch 93/500\n",
            "1/1 [==============================] - 0s 3ms/step - loss: 0.2105 - accuracy: 0.9412\n",
            "Epoch 94/500\n",
            "1/1 [==============================] - 0s 2ms/step - loss: 0.2023 - accuracy: 0.9412\n",
            "Epoch 95/500\n",
            "1/1 [==============================] - 0s 2ms/step - loss: 0.1949 - accuracy: 0.9412\n",
            "Epoch 96/500\n",
            "1/1 [==============================] - 0s 3ms/step - loss: 0.1880 - accuracy: 0.9412\n",
            "Epoch 97/500\n",
            "1/1 [==============================] - 0s 2ms/step - loss: 0.1817 - accuracy: 0.9412\n",
            "Epoch 98/500\n",
            "1/1 [==============================] - 0s 2ms/step - loss: 0.1759 - accuracy: 0.9412\n",
            "Epoch 99/500\n",
            "1/1 [==============================] - 0s 1ms/step - loss: 0.1705 - accuracy: 0.9412\n",
            "Epoch 100/500\n",
            "1/1 [==============================] - 0s 3ms/step - loss: 0.1656 - accuracy: 0.9412\n",
            "Epoch 101/500\n",
            "1/1 [==============================] - 0s 3ms/step - loss: 0.1611 - accuracy: 0.9412\n",
            "Epoch 102/500\n",
            "1/1 [==============================] - 0s 2ms/step - loss: 0.1569 - accuracy: 0.9412\n",
            "Epoch 103/500\n",
            "1/1 [==============================] - 0s 3ms/step - loss: 0.1531 - accuracy: 0.9412\n",
            "Epoch 104/500\n",
            "1/1 [==============================] - 0s 1ms/step - loss: 0.1496 - accuracy: 0.9412\n",
            "Epoch 105/500\n",
            "1/1 [==============================] - 0s 3ms/step - loss: 0.1463 - accuracy: 0.9412\n",
            "Epoch 106/500\n",
            "1/1 [==============================] - 0s 2ms/step - loss: 0.1433 - accuracy: 0.9412\n",
            "Epoch 107/500\n",
            "1/1 [==============================] - 0s 1ms/step - loss: 0.1405 - accuracy: 0.9412\n",
            "Epoch 108/500\n",
            "1/1 [==============================] - 0s 2ms/step - loss: 0.1379 - accuracy: 0.9412\n",
            "Epoch 109/500\n",
            "1/1 [==============================] - 0s 1ms/step - loss: 0.1354 - accuracy: 0.9412\n",
            "Epoch 110/500\n",
            "1/1 [==============================] - 0s 1ms/step - loss: 0.1332 - accuracy: 0.9412\n",
            "Epoch 111/500\n",
            "1/1 [==============================] - 0s 2ms/step - loss: 0.1311 - accuracy: 0.9412\n",
            "Epoch 112/500\n",
            "1/1 [==============================] - 0s 2ms/step - loss: 0.1292 - accuracy: 0.9412\n",
            "Epoch 113/500\n",
            "1/1 [==============================] - 0s 2ms/step - loss: 0.1274 - accuracy: 0.9412\n",
            "Epoch 114/500\n",
            "1/1 [==============================] - 0s 3ms/step - loss: 0.1256 - accuracy: 0.9412\n",
            "Epoch 115/500\n",
            "1/1 [==============================] - 0s 2ms/step - loss: 0.1241 - accuracy: 0.9412\n",
            "Epoch 116/500\n",
            "1/1 [==============================] - 0s 2ms/step - loss: 0.1226 - accuracy: 0.9412\n",
            "Epoch 117/500\n",
            "1/1 [==============================] - 0s 2ms/step - loss: 0.1211 - accuracy: 0.9412\n",
            "Epoch 118/500\n",
            "1/1 [==============================] - 0s 3ms/step - loss: 0.1198 - accuracy: 0.9412\n",
            "Epoch 119/500\n",
            "1/1 [==============================] - 0s 3ms/step - loss: 0.1186 - accuracy: 0.9412\n",
            "Epoch 120/500\n",
            "1/1 [==============================] - 0s 2ms/step - loss: 0.1174 - accuracy: 0.9412\n",
            "Epoch 121/500\n",
            "1/1 [==============================] - 0s 3ms/step - loss: 0.1163 - accuracy: 0.9412\n",
            "Epoch 122/500\n",
            "1/1 [==============================] - 0s 1ms/step - loss: 0.1152 - accuracy: 0.9412\n",
            "Epoch 123/500\n",
            "1/1 [==============================] - 0s 3ms/step - loss: 0.1142 - accuracy: 0.9412\n",
            "Epoch 124/500\n",
            "1/1 [==============================] - 0s 3ms/step - loss: 0.1133 - accuracy: 0.9412\n",
            "Epoch 125/500\n",
            "1/1 [==============================] - 0s 1ms/step - loss: 0.1124 - accuracy: 0.9412\n",
            "Epoch 126/500\n",
            "1/1 [==============================] - 0s 2ms/step - loss: 0.1115 - accuracy: 0.9412\n",
            "Epoch 127/500\n",
            "1/1 [==============================] - 0s 1ms/step - loss: 0.1107 - accuracy: 0.9412\n",
            "Epoch 128/500\n",
            "1/1 [==============================] - 0s 1ms/step - loss: 0.1100 - accuracy: 0.9412\n",
            "Epoch 129/500\n",
            "1/1 [==============================] - 0s 2ms/step - loss: 0.1092 - accuracy: 0.9412\n",
            "Epoch 130/500\n",
            "1/1 [==============================] - 0s 2ms/step - loss: 0.1085 - accuracy: 0.9412\n",
            "Epoch 131/500\n",
            "1/1 [==============================] - 0s 2ms/step - loss: 0.1078 - accuracy: 0.9412\n",
            "Epoch 132/500\n",
            "1/1 [==============================] - 0s 3ms/step - loss: 0.1072 - accuracy: 0.9412\n",
            "Epoch 133/500\n",
            "1/1 [==============================] - 0s 1ms/step - loss: 0.1066 - accuracy: 0.9412\n",
            "Epoch 134/500\n",
            "1/1 [==============================] - 0s 2ms/step - loss: 0.1060 - accuracy: 0.9412\n",
            "Epoch 135/500\n",
            "1/1 [==============================] - 0s 2ms/step - loss: 0.1054 - accuracy: 0.9412\n",
            "Epoch 136/500\n",
            "1/1 [==============================] - 0s 3ms/step - loss: 0.1049 - accuracy: 0.9412\n",
            "Epoch 137/500\n",
            "1/1 [==============================] - 0s 5ms/step - loss: 0.1043 - accuracy: 0.9412\n",
            "Epoch 138/500\n",
            "1/1 [==============================] - 0s 1ms/step - loss: 0.1038 - accuracy: 0.9412\n",
            "Epoch 139/500\n",
            "1/1 [==============================] - 0s 1ms/step - loss: 0.1034 - accuracy: 0.9412\n",
            "Epoch 140/500\n",
            "1/1 [==============================] - 0s 3ms/step - loss: 0.1029 - accuracy: 0.9412\n",
            "Epoch 141/500\n",
            "1/1 [==============================] - 0s 1ms/step - loss: 0.1025 - accuracy: 0.9412\n",
            "Epoch 142/500\n",
            "1/1 [==============================] - 0s 2ms/step - loss: 0.1020 - accuracy: 0.9412\n",
            "Epoch 143/500\n",
            "1/1 [==============================] - 0s 2ms/step - loss: 0.1016 - accuracy: 0.9412\n",
            "Epoch 144/500\n",
            "1/1 [==============================] - 0s 2ms/step - loss: 0.1012 - accuracy: 0.9412\n",
            "Epoch 145/500\n",
            "1/1 [==============================] - 0s 3ms/step - loss: 0.1009 - accuracy: 0.9412\n",
            "Epoch 146/500\n",
            "1/1 [==============================] - 0s 1ms/step - loss: 0.1005 - accuracy: 0.9412\n",
            "Epoch 147/500\n",
            "1/1 [==============================] - 0s 2ms/step - loss: 0.1001 - accuracy: 0.9412\n",
            "Epoch 148/500\n",
            "1/1 [==============================] - 0s 1ms/step - loss: 0.0998 - accuracy: 0.9412\n",
            "Epoch 149/500\n",
            "1/1 [==============================] - 0s 2ms/step - loss: 0.0995 - accuracy: 0.9412\n",
            "Epoch 150/500\n",
            "1/1 [==============================] - 0s 1ms/step - loss: 0.0992 - accuracy: 0.9412\n",
            "Epoch 151/500\n",
            "1/1 [==============================] - 0s 1ms/step - loss: 0.0988 - accuracy: 0.9412\n",
            "Epoch 152/500\n",
            "1/1 [==============================] - 0s 2ms/step - loss: 0.0985 - accuracy: 0.9412\n",
            "Epoch 153/500\n",
            "1/1 [==============================] - 0s 1ms/step - loss: 0.0983 - accuracy: 0.9412\n",
            "Epoch 154/500\n",
            "1/1 [==============================] - 0s 2ms/step - loss: 0.0980 - accuracy: 0.9412\n",
            "Epoch 155/500\n",
            "1/1 [==============================] - 0s 2ms/step - loss: 0.0977 - accuracy: 0.9412\n",
            "Epoch 156/500\n",
            "1/1 [==============================] - 0s 2ms/step - loss: 0.0974 - accuracy: 0.9412\n",
            "Epoch 157/500\n",
            "1/1 [==============================] - 0s 1ms/step - loss: 0.0972 - accuracy: 0.9412\n",
            "Epoch 158/500\n",
            "1/1 [==============================] - 0s 3ms/step - loss: 0.0969 - accuracy: 0.9412\n",
            "Epoch 159/500\n",
            "1/1 [==============================] - 0s 3ms/step - loss: 0.0967 - accuracy: 0.9412\n",
            "Epoch 160/500\n",
            "1/1 [==============================] - 0s 3ms/step - loss: 0.0965 - accuracy: 0.9412\n",
            "Epoch 161/500\n",
            "1/1 [==============================] - 0s 3ms/step - loss: 0.0962 - accuracy: 0.9412\n",
            "Epoch 162/500\n",
            "1/1 [==============================] - 0s 1ms/step - loss: 0.0960 - accuracy: 0.9412\n",
            "Epoch 163/500\n",
            "1/1 [==============================] - 0s 1ms/step - loss: 0.0958 - accuracy: 0.9412\n",
            "Epoch 164/500\n",
            "1/1 [==============================] - 0s 2ms/step - loss: 0.0956 - accuracy: 0.9412\n",
            "Epoch 165/500\n",
            "1/1 [==============================] - 0s 3ms/step - loss: 0.0954 - accuracy: 0.9412\n",
            "Epoch 166/500\n",
            "1/1 [==============================] - 0s 3ms/step - loss: 0.0952 - accuracy: 0.9412\n",
            "Epoch 167/500\n",
            "1/1 [==============================] - 0s 3ms/step - loss: 0.0950 - accuracy: 0.9412\n",
            "Epoch 168/500\n",
            "1/1 [==============================] - 0s 2ms/step - loss: 0.0948 - accuracy: 0.9412\n",
            "Epoch 169/500\n",
            "1/1 [==============================] - 0s 2ms/step - loss: 0.0946 - accuracy: 0.9412\n",
            "Epoch 170/500\n",
            "1/1 [==============================] - 0s 2ms/step - loss: 0.0945 - accuracy: 0.9412\n",
            "Epoch 171/500\n",
            "1/1 [==============================] - 0s 1ms/step - loss: 0.0943 - accuracy: 0.9412\n",
            "Epoch 172/500\n",
            "1/1 [==============================] - 0s 2ms/step - loss: 0.0941 - accuracy: 0.9412\n",
            "Epoch 173/500\n",
            "1/1 [==============================] - 0s 1ms/step - loss: 0.0940 - accuracy: 0.9412\n",
            "Epoch 174/500\n",
            "1/1 [==============================] - 0s 1ms/step - loss: 0.0938 - accuracy: 0.9412\n",
            "Epoch 175/500\n",
            "1/1 [==============================] - 0s 2ms/step - loss: 0.0936 - accuracy: 0.9412\n",
            "Epoch 176/500\n",
            "1/1 [==============================] - 0s 1ms/step - loss: 0.0935 - accuracy: 0.9412\n",
            "Epoch 177/500\n",
            "1/1 [==============================] - 0s 3ms/step - loss: 0.0933 - accuracy: 0.9412\n",
            "Epoch 178/500\n",
            "1/1 [==============================] - 0s 1ms/step - loss: 0.0932 - accuracy: 0.9412\n",
            "Epoch 179/500\n",
            "1/1 [==============================] - 0s 2ms/step - loss: 0.0930 - accuracy: 0.9412\n",
            "Epoch 180/500\n",
            "1/1 [==============================] - 0s 2ms/step - loss: 0.0929 - accuracy: 0.9412\n",
            "Epoch 181/500\n",
            "1/1 [==============================] - 0s 4ms/step - loss: 0.0928 - accuracy: 0.9412\n",
            "Epoch 182/500\n",
            "1/1 [==============================] - 0s 2ms/step - loss: 0.0926 - accuracy: 0.9412\n",
            "Epoch 183/500\n",
            "1/1 [==============================] - 0s 2ms/step - loss: 0.0925 - accuracy: 0.9412\n",
            "Epoch 184/500\n",
            "1/1 [==============================] - 0s 1ms/step - loss: 0.0924 - accuracy: 0.9412\n",
            "Epoch 185/500\n",
            "1/1 [==============================] - 0s 1ms/step - loss: 0.0922 - accuracy: 0.9412\n",
            "Epoch 186/500\n",
            "1/1 [==============================] - 0s 1ms/step - loss: 0.0921 - accuracy: 0.9412\n",
            "Epoch 187/500\n",
            "1/1 [==============================] - 0s 4ms/step - loss: 0.0920 - accuracy: 0.9412\n",
            "Epoch 188/500\n",
            "1/1 [==============================] - 0s 2ms/step - loss: 0.0919 - accuracy: 0.9412\n",
            "Epoch 189/500\n",
            "1/1 [==============================] - 0s 2ms/step - loss: 0.0918 - accuracy: 0.9412\n",
            "Epoch 190/500\n",
            "1/1 [==============================] - 0s 2ms/step - loss: 0.0916 - accuracy: 0.9412\n",
            "Epoch 191/500\n",
            "1/1 [==============================] - 0s 4ms/step - loss: 0.0915 - accuracy: 0.9412\n",
            "Epoch 192/500\n",
            "1/1 [==============================] - 0s 2ms/step - loss: 0.0914 - accuracy: 0.9412\n",
            "Epoch 193/500\n",
            "1/1 [==============================] - 0s 2ms/step - loss: 0.0913 - accuracy: 0.9412\n",
            "Epoch 194/500\n",
            "1/1 [==============================] - 0s 3ms/step - loss: 0.0912 - accuracy: 0.9412\n",
            "Epoch 195/500\n",
            "1/1 [==============================] - 0s 2ms/step - loss: 0.0911 - accuracy: 0.9412\n",
            "Epoch 196/500\n",
            "1/1 [==============================] - 0s 2ms/step - loss: 0.0910 - accuracy: 0.9412\n",
            "Epoch 197/500\n",
            "1/1 [==============================] - 0s 2ms/step - loss: 0.0909 - accuracy: 0.9412\n",
            "Epoch 198/500\n",
            "1/1 [==============================] - 0s 3ms/step - loss: 0.0908 - accuracy: 0.9412\n",
            "Epoch 199/500\n",
            "1/1 [==============================] - 0s 3ms/step - loss: 0.0907 - accuracy: 0.9412\n",
            "Epoch 200/500\n",
            "1/1 [==============================] - 0s 2ms/step - loss: 0.0906 - accuracy: 0.9412\n",
            "Epoch 201/500\n",
            "1/1 [==============================] - 0s 3ms/step - loss: 0.0905 - accuracy: 0.9412\n",
            "Epoch 202/500\n",
            "1/1 [==============================] - 0s 2ms/step - loss: 0.0904 - accuracy: 0.9412\n",
            "Epoch 203/500\n",
            "1/1 [==============================] - 0s 2ms/step - loss: 0.0903 - accuracy: 0.9412\n",
            "Epoch 204/500\n",
            "1/1 [==============================] - 0s 3ms/step - loss: 0.0902 - accuracy: 0.9412\n",
            "Epoch 205/500\n",
            "1/1 [==============================] - 0s 1ms/step - loss: 0.0901 - accuracy: 0.9412\n",
            "Epoch 206/500\n",
            "1/1 [==============================] - 0s 3ms/step - loss: 0.0901 - accuracy: 0.9412\n",
            "Epoch 207/500\n",
            "1/1 [==============================] - 0s 1ms/step - loss: 0.0900 - accuracy: 0.9412\n",
            "Epoch 208/500\n",
            "1/1 [==============================] - 0s 2ms/step - loss: 0.0899 - accuracy: 0.9412\n",
            "Epoch 209/500\n",
            "1/1 [==============================] - 0s 1ms/step - loss: 0.0898 - accuracy: 0.9412\n",
            "Epoch 210/500\n",
            "1/1 [==============================] - 0s 3ms/step - loss: 0.0897 - accuracy: 0.9412\n",
            "Epoch 211/500\n",
            "1/1 [==============================] - 0s 1ms/step - loss: 0.0896 - accuracy: 0.9412\n",
            "Epoch 212/500\n",
            "1/1 [==============================] - 0s 2ms/step - loss: 0.0896 - accuracy: 0.9412\n",
            "Epoch 213/500\n",
            "1/1 [==============================] - 0s 1ms/step - loss: 0.0895 - accuracy: 0.9412\n",
            "Epoch 214/500\n",
            "1/1 [==============================] - 0s 3ms/step - loss: 0.0894 - accuracy: 0.9412\n",
            "Epoch 215/500\n",
            "1/1 [==============================] - 0s 2ms/step - loss: 0.0893 - accuracy: 0.9412\n",
            "Epoch 216/500\n",
            "1/1 [==============================] - 0s 2ms/step - loss: 0.0893 - accuracy: 0.9412\n",
            "Epoch 217/500\n",
            "1/1 [==============================] - 0s 2ms/step - loss: 0.0892 - accuracy: 0.9412\n",
            "Epoch 218/500\n",
            "1/1 [==============================] - 0s 3ms/step - loss: 0.0891 - accuracy: 0.9412\n",
            "Epoch 219/500\n",
            "1/1 [==============================] - 0s 2ms/step - loss: 0.0891 - accuracy: 0.9412\n",
            "Epoch 220/500\n",
            "1/1 [==============================] - 0s 2ms/step - loss: 0.0890 - accuracy: 0.9412\n",
            "Epoch 221/500\n",
            "1/1 [==============================] - 0s 1ms/step - loss: 0.0889 - accuracy: 0.9412\n",
            "Epoch 222/500\n",
            "1/1 [==============================] - 0s 2ms/step - loss: 0.0889 - accuracy: 0.9412\n",
            "Epoch 223/500\n",
            "1/1 [==============================] - 0s 1ms/step - loss: 0.0888 - accuracy: 0.9412\n",
            "Epoch 224/500\n",
            "1/1 [==============================] - 0s 2ms/step - loss: 0.0887 - accuracy: 0.9412\n",
            "Epoch 225/500\n",
            "1/1 [==============================] - 0s 1ms/step - loss: 0.0887 - accuracy: 0.9412\n",
            "Epoch 226/500\n",
            "1/1 [==============================] - 0s 1ms/step - loss: 0.0886 - accuracy: 0.9412\n",
            "Epoch 227/500\n",
            "1/1 [==============================] - 0s 2ms/step - loss: 0.0885 - accuracy: 0.9412\n",
            "Epoch 228/500\n",
            "1/1 [==============================] - 0s 4ms/step - loss: 0.0885 - accuracy: 0.9412\n",
            "Epoch 229/500\n",
            "1/1 [==============================] - 0s 2ms/step - loss: 0.0884 - accuracy: 0.9412\n",
            "Epoch 230/500\n",
            "1/1 [==============================] - 0s 1ms/step - loss: 0.0884 - accuracy: 0.9412\n",
            "Epoch 231/500\n",
            "1/1 [==============================] - 0s 1ms/step - loss: 0.0883 - accuracy: 0.9412\n",
            "Epoch 232/500\n",
            "1/1 [==============================] - 0s 1ms/step - loss: 0.0882 - accuracy: 0.9412\n",
            "Epoch 233/500\n",
            "1/1 [==============================] - 0s 2ms/step - loss: 0.0882 - accuracy: 0.9412\n",
            "Epoch 234/500\n",
            "1/1 [==============================] - 0s 2ms/step - loss: 0.0881 - accuracy: 0.9412\n",
            "Epoch 235/500\n",
            "1/1 [==============================] - 0s 2ms/step - loss: 0.0881 - accuracy: 0.9412\n",
            "Epoch 236/500\n",
            "1/1 [==============================] - 0s 1ms/step - loss: 0.0880 - accuracy: 0.9412\n",
            "Epoch 237/500\n",
            "1/1 [==============================] - 0s 2ms/step - loss: 0.0880 - accuracy: 0.9412\n",
            "Epoch 238/500\n",
            "1/1 [==============================] - 0s 1ms/step - loss: 0.0879 - accuracy: 0.9412\n",
            "Epoch 239/500\n",
            "1/1 [==============================] - 0s 2ms/step - loss: 0.0879 - accuracy: 0.9412\n",
            "Epoch 240/500\n",
            "1/1 [==============================] - 0s 3ms/step - loss: 0.0878 - accuracy: 0.9412\n",
            "Epoch 241/500\n",
            "1/1 [==============================] - 0s 1ms/step - loss: 0.0878 - accuracy: 0.9412\n",
            "Epoch 242/500\n",
            "1/1 [==============================] - 0s 3ms/step - loss: 0.0877 - accuracy: 0.9412\n",
            "Epoch 243/500\n",
            "1/1 [==============================] - 0s 1ms/step - loss: 0.0877 - accuracy: 0.9412\n",
            "Epoch 244/500\n",
            "1/1 [==============================] - 0s 3ms/step - loss: 0.0876 - accuracy: 0.9412\n",
            "Epoch 245/500\n",
            "1/1 [==============================] - 0s 2ms/step - loss: 0.0876 - accuracy: 0.9412\n",
            "Epoch 246/500\n",
            "1/1 [==============================] - 0s 2ms/step - loss: 0.0875 - accuracy: 0.9412\n",
            "Epoch 247/500\n",
            "1/1 [==============================] - 0s 1ms/step - loss: 0.0875 - accuracy: 0.9412\n",
            "Epoch 248/500\n",
            "1/1 [==============================] - 0s 4ms/step - loss: 0.0874 - accuracy: 0.9412\n",
            "Epoch 249/500\n",
            "1/1 [==============================] - 0s 2ms/step - loss: 0.0874 - accuracy: 0.9412\n",
            "Epoch 250/500\n",
            "1/1 [==============================] - 0s 2ms/step - loss: 0.0873 - accuracy: 0.9412\n",
            "Epoch 251/500\n",
            "1/1 [==============================] - 0s 2ms/step - loss: 0.0873 - accuracy: 0.9412\n",
            "Epoch 252/500\n",
            "1/1 [==============================] - 0s 2ms/step - loss: 0.0872 - accuracy: 0.9412\n",
            "Epoch 253/500\n",
            "1/1 [==============================] - 0s 3ms/step - loss: 0.0872 - accuracy: 0.9412\n",
            "Epoch 254/500\n",
            "1/1 [==============================] - 0s 3ms/step - loss: 0.0871 - accuracy: 0.9412\n",
            "Epoch 255/500\n",
            "1/1 [==============================] - 0s 1ms/step - loss: 0.0871 - accuracy: 0.9412\n",
            "Epoch 256/500\n",
            "1/1 [==============================] - 0s 1ms/step - loss: 0.0871 - accuracy: 0.9412\n",
            "Epoch 257/500\n",
            "1/1 [==============================] - 0s 2ms/step - loss: 0.0870 - accuracy: 0.9412\n",
            "Epoch 258/500\n",
            "1/1 [==============================] - 0s 1ms/step - loss: 0.0870 - accuracy: 0.9412\n",
            "Epoch 259/500\n",
            "1/1 [==============================] - 0s 3ms/step - loss: 0.0869 - accuracy: 0.9412\n",
            "Epoch 260/500\n",
            "1/1 [==============================] - 0s 2ms/step - loss: 0.0869 - accuracy: 0.9412\n",
            "Epoch 261/500\n",
            "1/1 [==============================] - 0s 1ms/step - loss: 0.0869 - accuracy: 0.9412\n",
            "Epoch 262/500\n",
            "1/1 [==============================] - 0s 1ms/step - loss: 0.0868 - accuracy: 0.9412\n",
            "Epoch 263/500\n",
            "1/1 [==============================] - 0s 3ms/step - loss: 0.0868 - accuracy: 0.9412\n",
            "Epoch 264/500\n",
            "1/1 [==============================] - 0s 3ms/step - loss: 0.0867 - accuracy: 0.9412\n",
            "Epoch 265/500\n",
            "1/1 [==============================] - 0s 2ms/step - loss: 0.0867 - accuracy: 0.9412\n",
            "Epoch 266/500\n",
            "1/1 [==============================] - 0s 1ms/step - loss: 0.0867 - accuracy: 0.9412\n",
            "Epoch 267/500\n",
            "1/1 [==============================] - 0s 1ms/step - loss: 0.0866 - accuracy: 0.9412\n",
            "Epoch 268/500\n",
            "1/1 [==============================] - 0s 4ms/step - loss: 0.0866 - accuracy: 0.9412\n",
            "Epoch 269/500\n",
            "1/1 [==============================] - 0s 2ms/step - loss: 0.0866 - accuracy: 0.9412\n",
            "Epoch 270/500\n",
            "1/1 [==============================] - 0s 2ms/step - loss: 0.0865 - accuracy: 0.9412\n",
            "Epoch 271/500\n",
            "1/1 [==============================] - 0s 1ms/step - loss: 0.0865 - accuracy: 0.9412\n",
            "Epoch 272/500\n",
            "1/1 [==============================] - 0s 2ms/step - loss: 0.0865 - accuracy: 0.9412\n",
            "Epoch 273/500\n",
            "1/1 [==============================] - 0s 2ms/step - loss: 0.0864 - accuracy: 0.9412\n",
            "Epoch 274/500\n",
            "1/1 [==============================] - 0s 2ms/step - loss: 0.0864 - accuracy: 0.9412\n",
            "Epoch 275/500\n",
            "1/1 [==============================] - 0s 3ms/step - loss: 0.0864 - accuracy: 0.9412\n",
            "Epoch 276/500\n",
            "1/1 [==============================] - 0s 1ms/step - loss: 0.0863 - accuracy: 0.9412\n",
            "Epoch 277/500\n",
            "1/1 [==============================] - 0s 1ms/step - loss: 0.0863 - accuracy: 0.9412\n",
            "Epoch 278/500\n",
            "1/1 [==============================] - 0s 2ms/step - loss: 0.0863 - accuracy: 0.9412\n",
            "Epoch 279/500\n",
            "1/1 [==============================] - 0s 1ms/step - loss: 0.0862 - accuracy: 0.9412\n",
            "Epoch 280/500\n",
            "1/1 [==============================] - 0s 2ms/step - loss: 0.0862 - accuracy: 0.9412\n",
            "Epoch 281/500\n",
            "1/1 [==============================] - 0s 1ms/step - loss: 0.0862 - accuracy: 0.9412\n",
            "Epoch 282/500\n",
            "1/1 [==============================] - 0s 1ms/step - loss: 0.0861 - accuracy: 0.9412\n",
            "Epoch 283/500\n",
            "1/1 [==============================] - 0s 2ms/step - loss: 0.0861 - accuracy: 0.9412\n",
            "Epoch 284/500\n",
            "1/1 [==============================] - 0s 3ms/step - loss: 0.0861 - accuracy: 0.9412\n",
            "Epoch 285/500\n",
            "1/1 [==============================] - 0s 2ms/step - loss: 0.0860 - accuracy: 0.9412\n",
            "Epoch 286/500\n",
            "1/1 [==============================] - 0s 1ms/step - loss: 0.0860 - accuracy: 0.9412\n",
            "Epoch 287/500\n",
            "1/1 [==============================] - 0s 2ms/step - loss: 0.0860 - accuracy: 0.9412\n",
            "Epoch 288/500\n",
            "1/1 [==============================] - 0s 3ms/step - loss: 0.0860 - accuracy: 0.9412\n",
            "Epoch 289/500\n",
            "1/1 [==============================] - 0s 3ms/step - loss: 0.0859 - accuracy: 0.9412\n",
            "Epoch 290/500\n",
            "1/1 [==============================] - 0s 2ms/step - loss: 0.0859 - accuracy: 0.9412\n",
            "Epoch 291/500\n",
            "1/1 [==============================] - 0s 3ms/step - loss: 0.0859 - accuracy: 0.9412\n",
            "Epoch 292/500\n",
            "1/1 [==============================] - 0s 1ms/step - loss: 0.0858 - accuracy: 0.9412\n",
            "Epoch 293/500\n",
            "1/1 [==============================] - 0s 3ms/step - loss: 0.0858 - accuracy: 0.9412\n",
            "Epoch 294/500\n",
            "1/1 [==============================] - 0s 1ms/step - loss: 0.0858 - accuracy: 0.9412\n",
            "Epoch 295/500\n",
            "1/1 [==============================] - 0s 2ms/step - loss: 0.0858 - accuracy: 0.9412\n",
            "Epoch 296/500\n",
            "1/1 [==============================] - 0s 1ms/step - loss: 0.0857 - accuracy: 0.9412\n",
            "Epoch 297/500\n",
            "1/1 [==============================] - 0s 1ms/step - loss: 0.0857 - accuracy: 0.9412\n",
            "Epoch 298/500\n",
            "1/1 [==============================] - 0s 1ms/step - loss: 0.0857 - accuracy: 0.9412\n",
            "Epoch 299/500\n",
            "1/1 [==============================] - 0s 2ms/step - loss: 0.0857 - accuracy: 0.9412\n",
            "Epoch 300/500\n",
            "1/1 [==============================] - 0s 4ms/step - loss: 0.0856 - accuracy: 0.9412\n",
            "Epoch 301/500\n",
            "1/1 [==============================] - 0s 1ms/step - loss: 0.0856 - accuracy: 0.9412\n",
            "Epoch 302/500\n",
            "1/1 [==============================] - 0s 2ms/step - loss: 0.0856 - accuracy: 0.9412\n",
            "Epoch 303/500\n",
            "1/1 [==============================] - 0s 3ms/step - loss: 0.0856 - accuracy: 0.9412\n",
            "Epoch 304/500\n",
            "1/1 [==============================] - 0s 3ms/step - loss: 0.0855 - accuracy: 0.9412\n",
            "Epoch 305/500\n",
            "1/1 [==============================] - 0s 2ms/step - loss: 0.0855 - accuracy: 0.9412\n",
            "Epoch 306/500\n",
            "1/1 [==============================] - 0s 2ms/step - loss: 0.0855 - accuracy: 0.9412\n",
            "Epoch 307/500\n",
            "1/1 [==============================] - 0s 4ms/step - loss: 0.0855 - accuracy: 0.9412\n",
            "Epoch 308/500\n",
            "1/1 [==============================] - 0s 1ms/step - loss: 0.0854 - accuracy: 0.9412\n",
            "Epoch 309/500\n",
            "1/1 [==============================] - 0s 1ms/step - loss: 0.0854 - accuracy: 0.9412\n",
            "Epoch 310/500\n",
            "1/1 [==============================] - 0s 1ms/step - loss: 0.0854 - accuracy: 0.9412\n",
            "Epoch 311/500\n",
            "1/1 [==============================] - 0s 2ms/step - loss: 0.0854 - accuracy: 0.9412\n",
            "Epoch 312/500\n",
            "1/1 [==============================] - 0s 1ms/step - loss: 0.0853 - accuracy: 0.9412\n",
            "Epoch 313/500\n",
            "1/1 [==============================] - 0s 2ms/step - loss: 0.0853 - accuracy: 0.9412\n",
            "Epoch 314/500\n",
            "1/1 [==============================] - 0s 2ms/step - loss: 0.0853 - accuracy: 0.9412\n",
            "Epoch 315/500\n",
            "1/1 [==============================] - 0s 3ms/step - loss: 0.0853 - accuracy: 0.9412\n",
            "Epoch 316/500\n",
            "1/1 [==============================] - 0s 2ms/step - loss: 0.0853 - accuracy: 0.9412\n",
            "Epoch 317/500\n",
            "1/1 [==============================] - 0s 1ms/step - loss: 0.0852 - accuracy: 0.9412\n",
            "Epoch 318/500\n",
            "1/1 [==============================] - 0s 3ms/step - loss: 0.0852 - accuracy: 0.9412\n",
            "Epoch 319/500\n",
            "1/1 [==============================] - 0s 2ms/step - loss: 0.0852 - accuracy: 0.9412\n",
            "Epoch 320/500\n",
            "1/1 [==============================] - 0s 2ms/step - loss: 0.0852 - accuracy: 0.9412\n",
            "Epoch 321/500\n",
            "1/1 [==============================] - 0s 3ms/step - loss: 0.0851 - accuracy: 0.9412\n",
            "Epoch 322/500\n",
            "1/1 [==============================] - 0s 7ms/step - loss: 0.0851 - accuracy: 0.9412\n",
            "Epoch 323/500\n",
            "1/1 [==============================] - 0s 2ms/step - loss: 0.0851 - accuracy: 0.9412\n",
            "Epoch 324/500\n",
            "1/1 [==============================] - 0s 2ms/step - loss: 0.0851 - accuracy: 0.9412\n",
            "Epoch 325/500\n",
            "1/1 [==============================] - 0s 2ms/step - loss: 0.0851 - accuracy: 0.9412\n",
            "Epoch 326/500\n",
            "1/1 [==============================] - 0s 2ms/step - loss: 0.0850 - accuracy: 0.9412\n",
            "Epoch 327/500\n",
            "1/1 [==============================] - 0s 3ms/step - loss: 0.0850 - accuracy: 0.9412\n",
            "Epoch 328/500\n",
            "1/1 [==============================] - 0s 1ms/step - loss: 0.0850 - accuracy: 0.9412\n",
            "Epoch 329/500\n",
            "1/1 [==============================] - 0s 2ms/step - loss: 0.0850 - accuracy: 0.9412\n",
            "Epoch 330/500\n",
            "1/1 [==============================] - 0s 2ms/step - loss: 0.0850 - accuracy: 0.9412\n",
            "Epoch 331/500\n",
            "1/1 [==============================] - 0s 1ms/step - loss: 0.0849 - accuracy: 0.9412\n",
            "Epoch 332/500\n",
            "1/1 [==============================] - 0s 2ms/step - loss: 0.0849 - accuracy: 0.9412\n",
            "Epoch 333/500\n",
            "1/1 [==============================] - 0s 2ms/step - loss: 0.0849 - accuracy: 0.9412\n",
            "Epoch 334/500\n",
            "1/1 [==============================] - 0s 1ms/step - loss: 0.0849 - accuracy: 0.9412\n",
            "Epoch 335/500\n",
            "1/1 [==============================] - 0s 1ms/step - loss: 0.0849 - accuracy: 0.9412\n",
            "Epoch 336/500\n",
            "1/1 [==============================] - 0s 1ms/step - loss: 0.0849 - accuracy: 0.9412\n",
            "Epoch 337/500\n",
            "1/1 [==============================] - 0s 3ms/step - loss: 0.0848 - accuracy: 0.9412\n",
            "Epoch 338/500\n",
            "1/1 [==============================] - 0s 2ms/step - loss: 0.0848 - accuracy: 0.9412\n",
            "Epoch 339/500\n",
            "1/1 [==============================] - 0s 2ms/step - loss: 0.0848 - accuracy: 0.9412\n",
            "Epoch 340/500\n",
            "1/1 [==============================] - 0s 2ms/step - loss: 0.0848 - accuracy: 0.9412\n",
            "Epoch 341/500\n",
            "1/1 [==============================] - 0s 2ms/step - loss: 0.0848 - accuracy: 0.9412\n",
            "Epoch 342/500\n",
            "1/1 [==============================] - 0s 1ms/step - loss: 0.0847 - accuracy: 0.9412\n",
            "Epoch 343/500\n",
            "1/1 [==============================] - 0s 2ms/step - loss: 0.0847 - accuracy: 0.9412\n",
            "Epoch 344/500\n",
            "1/1 [==============================] - 0s 2ms/step - loss: 0.0847 - accuracy: 0.9412\n",
            "Epoch 345/500\n",
            "1/1 [==============================] - 0s 1ms/step - loss: 0.0847 - accuracy: 0.9412\n",
            "Epoch 346/500\n",
            "1/1 [==============================] - 0s 3ms/step - loss: 0.0847 - accuracy: 0.9412\n",
            "Epoch 347/500\n",
            "1/1 [==============================] - 0s 2ms/step - loss: 0.0847 - accuracy: 0.9412\n",
            "Epoch 348/500\n",
            "1/1 [==============================] - 0s 2ms/step - loss: 0.0846 - accuracy: 0.9412\n",
            "Epoch 349/500\n",
            "1/1 [==============================] - 0s 1ms/step - loss: 0.0846 - accuracy: 0.9412\n",
            "Epoch 350/500\n",
            "1/1 [==============================] - 0s 1ms/step - loss: 0.0846 - accuracy: 0.9412\n",
            "Epoch 351/500\n",
            "1/1 [==============================] - 0s 2ms/step - loss: 0.0846 - accuracy: 0.9412\n",
            "Epoch 352/500\n",
            "1/1 [==============================] - 0s 1ms/step - loss: 0.0846 - accuracy: 0.9412\n",
            "Epoch 353/500\n",
            "1/1 [==============================] - 0s 1ms/step - loss: 0.0846 - accuracy: 0.9412\n",
            "Epoch 354/500\n",
            "1/1 [==============================] - 0s 3ms/step - loss: 0.0846 - accuracy: 0.9412\n",
            "Epoch 355/500\n",
            "1/1 [==============================] - 0s 1ms/step - loss: 0.0845 - accuracy: 0.9412\n",
            "Epoch 356/500\n",
            "1/1 [==============================] - 0s 3ms/step - loss: 0.0845 - accuracy: 0.9412\n",
            "Epoch 357/500\n",
            "1/1 [==============================] - 0s 1ms/step - loss: 0.0845 - accuracy: 0.9412\n",
            "Epoch 358/500\n",
            "1/1 [==============================] - 0s 2ms/step - loss: 0.0845 - accuracy: 0.9412\n",
            "Epoch 359/500\n",
            "1/1 [==============================] - 0s 3ms/step - loss: 0.0845 - accuracy: 0.9412\n",
            "Epoch 360/500\n",
            "1/1 [==============================] - 0s 3ms/step - loss: 0.0845 - accuracy: 0.9412\n",
            "Epoch 361/500\n",
            "1/1 [==============================] - 0s 1ms/step - loss: 0.0844 - accuracy: 0.9412\n",
            "Epoch 362/500\n",
            "1/1 [==============================] - 0s 2ms/step - loss: 0.0844 - accuracy: 0.9412\n",
            "Epoch 363/500\n",
            "1/1 [==============================] - 0s 2ms/step - loss: 0.0844 - accuracy: 0.9412\n",
            "Epoch 364/500\n",
            "1/1 [==============================] - 0s 3ms/step - loss: 0.0844 - accuracy: 0.9412\n",
            "Epoch 365/500\n",
            "1/1 [==============================] - 0s 2ms/step - loss: 0.0844 - accuracy: 0.9412\n",
            "Epoch 366/500\n",
            "1/1 [==============================] - 0s 1ms/step - loss: 0.0844 - accuracy: 0.9412\n",
            "Epoch 367/500\n",
            "1/1 [==============================] - 0s 2ms/step - loss: 0.0844 - accuracy: 0.9412\n",
            "Epoch 368/500\n",
            "1/1 [==============================] - 0s 1ms/step - loss: 0.0843 - accuracy: 0.9412\n",
            "Epoch 369/500\n",
            "1/1 [==============================] - 0s 3ms/step - loss: 0.0843 - accuracy: 0.9412\n",
            "Epoch 370/500\n",
            "1/1 [==============================] - 0s 4ms/step - loss: 0.0843 - accuracy: 0.9412\n",
            "Epoch 371/500\n",
            "1/1 [==============================] - 0s 2ms/step - loss: 0.0843 - accuracy: 0.9412\n",
            "Epoch 372/500\n",
            "1/1 [==============================] - 0s 1ms/step - loss: 0.0843 - accuracy: 0.9412\n",
            "Epoch 373/500\n",
            "1/1 [==============================] - 0s 1ms/step - loss: 0.0843 - accuracy: 0.9412\n",
            "Epoch 374/500\n",
            "1/1 [==============================] - 0s 3ms/step - loss: 0.0843 - accuracy: 0.9412\n",
            "Epoch 375/500\n",
            "1/1 [==============================] - 0s 2ms/step - loss: 0.0843 - accuracy: 0.9412\n",
            "Epoch 376/500\n",
            "1/1 [==============================] - 0s 1ms/step - loss: 0.0842 - accuracy: 0.9412\n",
            "Epoch 377/500\n",
            "1/1 [==============================] - 0s 1ms/step - loss: 0.0842 - accuracy: 0.9412\n",
            "Epoch 378/500\n",
            "1/1 [==============================] - 0s 2ms/step - loss: 0.0842 - accuracy: 0.9412\n",
            "Epoch 379/500\n",
            "1/1 [==============================] - 0s 2ms/step - loss: 0.0842 - accuracy: 0.9412\n",
            "Epoch 380/500\n",
            "1/1 [==============================] - 0s 2ms/step - loss: 0.0842 - accuracy: 0.9412\n",
            "Epoch 381/500\n",
            "1/1 [==============================] - 0s 2ms/step - loss: 0.0842 - accuracy: 0.9412\n",
            "Epoch 382/500\n",
            "1/1 [==============================] - 0s 2ms/step - loss: 0.0842 - accuracy: 0.9412\n",
            "Epoch 383/500\n",
            "1/1 [==============================] - 0s 3ms/step - loss: 0.0842 - accuracy: 0.9412\n",
            "Epoch 384/500\n",
            "1/1 [==============================] - 0s 3ms/step - loss: 0.0841 - accuracy: 0.9412\n",
            "Epoch 385/500\n",
            "1/1 [==============================] - 0s 1ms/step - loss: 0.0841 - accuracy: 0.9412\n",
            "Epoch 386/500\n",
            "1/1 [==============================] - 0s 3ms/step - loss: 0.0841 - accuracy: 0.9412\n",
            "Epoch 387/500\n",
            "1/1 [==============================] - 0s 1ms/step - loss: 0.0841 - accuracy: 0.9412\n",
            "Epoch 388/500\n",
            "1/1 [==============================] - 0s 2ms/step - loss: 0.0841 - accuracy: 0.9412\n",
            "Epoch 389/500\n",
            "1/1 [==============================] - 0s 2ms/step - loss: 0.0841 - accuracy: 0.9412\n",
            "Epoch 390/500\n",
            "1/1 [==============================] - 0s 2ms/step - loss: 0.0841 - accuracy: 0.9412\n",
            "Epoch 391/500\n",
            "1/1 [==============================] - 0s 2ms/step - loss: 0.0841 - accuracy: 0.9412\n",
            "Epoch 392/500\n",
            "1/1 [==============================] - 0s 2ms/step - loss: 0.0840 - accuracy: 0.9412\n",
            "Epoch 393/500\n",
            "1/1 [==============================] - 0s 2ms/step - loss: 0.0840 - accuracy: 0.9412\n",
            "Epoch 394/500\n",
            "1/1 [==============================] - 0s 2ms/step - loss: 0.0840 - accuracy: 0.9412\n",
            "Epoch 395/500\n",
            "1/1 [==============================] - 0s 2ms/step - loss: 0.0840 - accuracy: 0.9412\n",
            "Epoch 396/500\n",
            "1/1 [==============================] - 0s 1ms/step - loss: 0.0840 - accuracy: 0.9412\n",
            "Epoch 397/500\n",
            "1/1 [==============================] - 0s 2ms/step - loss: 0.0840 - accuracy: 0.9412\n",
            "Epoch 398/500\n",
            "1/1 [==============================] - 0s 2ms/step - loss: 0.0840 - accuracy: 0.9412\n",
            "Epoch 399/500\n",
            "1/1 [==============================] - 0s 2ms/step - loss: 0.0840 - accuracy: 0.9412\n",
            "Epoch 400/500\n",
            "1/1 [==============================] - 0s 1ms/step - loss: 0.0840 - accuracy: 0.9412\n",
            "Epoch 401/500\n",
            "1/1 [==============================] - 0s 2ms/step - loss: 0.0839 - accuracy: 0.9412\n",
            "Epoch 402/500\n",
            "1/1 [==============================] - 0s 2ms/step - loss: 0.0839 - accuracy: 0.9412\n",
            "Epoch 403/500\n",
            "1/1 [==============================] - 0s 2ms/step - loss: 0.0839 - accuracy: 0.9412\n",
            "Epoch 404/500\n",
            "1/1 [==============================] - 0s 2ms/step - loss: 0.0839 - accuracy: 0.9412\n",
            "Epoch 405/500\n",
            "1/1 [==============================] - 0s 2ms/step - loss: 0.0839 - accuracy: 0.9412\n",
            "Epoch 406/500\n",
            "1/1 [==============================] - 0s 2ms/step - loss: 0.0839 - accuracy: 0.9412\n",
            "Epoch 407/500\n",
            "1/1 [==============================] - 0s 1ms/step - loss: 0.0839 - accuracy: 0.9412\n",
            "Epoch 408/500\n",
            "1/1 [==============================] - 0s 2ms/step - loss: 0.0839 - accuracy: 0.9412\n",
            "Epoch 409/500\n",
            "1/1 [==============================] - 0s 1ms/step - loss: 0.0839 - accuracy: 0.9412\n",
            "Epoch 410/500\n",
            "1/1 [==============================] - 0s 2ms/step - loss: 0.0838 - accuracy: 0.9412\n",
            "Epoch 411/500\n",
            "1/1 [==============================] - 0s 1ms/step - loss: 0.0838 - accuracy: 0.9412\n",
            "Epoch 412/500\n",
            "1/1 [==============================] - 0s 2ms/step - loss: 0.0838 - accuracy: 0.9412\n",
            "Epoch 413/500\n",
            "1/1 [==============================] - 0s 1ms/step - loss: 0.0838 - accuracy: 0.9412\n",
            "Epoch 414/500\n",
            "1/1 [==============================] - 0s 3ms/step - loss: 0.0838 - accuracy: 0.9412\n",
            "Epoch 415/500\n",
            "1/1 [==============================] - 0s 1ms/step - loss: 0.0838 - accuracy: 0.9412\n",
            "Epoch 416/500\n",
            "1/1 [==============================] - 0s 1ms/step - loss: 0.0838 - accuracy: 0.9412\n",
            "Epoch 417/500\n",
            "1/1 [==============================] - 0s 1ms/step - loss: 0.0838 - accuracy: 0.9412\n",
            "Epoch 418/500\n",
            "1/1 [==============================] - 0s 3ms/step - loss: 0.0838 - accuracy: 0.9412\n",
            "Epoch 419/500\n",
            "1/1 [==============================] - 0s 1ms/step - loss: 0.0838 - accuracy: 0.9412\n",
            "Epoch 420/500\n",
            "1/1 [==============================] - 0s 2ms/step - loss: 0.0838 - accuracy: 0.9412\n",
            "Epoch 421/500\n",
            "1/1 [==============================] - 0s 2ms/step - loss: 0.0837 - accuracy: 0.9412\n",
            "Epoch 422/500\n",
            "1/1 [==============================] - 0s 3ms/step - loss: 0.0837 - accuracy: 0.9412\n",
            "Epoch 423/500\n",
            "1/1 [==============================] - 0s 1ms/step - loss: 0.0837 - accuracy: 0.9412\n",
            "Epoch 424/500\n",
            "1/1 [==============================] - 0s 3ms/step - loss: 0.0837 - accuracy: 0.9412\n",
            "Epoch 425/500\n",
            "1/1 [==============================] - 0s 2ms/step - loss: 0.0837 - accuracy: 0.9412\n",
            "Epoch 426/500\n",
            "1/1 [==============================] - 0s 2ms/step - loss: 0.0837 - accuracy: 0.9412\n",
            "Epoch 427/500\n",
            "1/1 [==============================] - 0s 2ms/step - loss: 0.0837 - accuracy: 0.9412\n",
            "Epoch 428/500\n",
            "1/1 [==============================] - 0s 1ms/step - loss: 0.0837 - accuracy: 0.9412\n",
            "Epoch 429/500\n",
            "1/1 [==============================] - 0s 3ms/step - loss: 0.0837 - accuracy: 0.9412\n",
            "Epoch 430/500\n",
            "1/1 [==============================] - 0s 1ms/step - loss: 0.0837 - accuracy: 0.9412\n",
            "Epoch 431/500\n",
            "1/1 [==============================] - 0s 2ms/step - loss: 0.0837 - accuracy: 0.9412\n",
            "Epoch 432/500\n",
            "1/1 [==============================] - 0s 3ms/step - loss: 0.0836 - accuracy: 0.9412\n",
            "Epoch 433/500\n",
            "1/1 [==============================] - 0s 1ms/step - loss: 0.0836 - accuracy: 0.9412\n",
            "Epoch 434/500\n",
            "1/1 [==============================] - 0s 1ms/step - loss: 0.0836 - accuracy: 0.9412\n",
            "Epoch 435/500\n",
            "1/1 [==============================] - 0s 2ms/step - loss: 0.0836 - accuracy: 0.9412\n",
            "Epoch 436/500\n",
            "1/1 [==============================] - 0s 1ms/step - loss: 0.0836 - accuracy: 0.9412\n",
            "Epoch 437/500\n",
            "1/1 [==============================] - 0s 1ms/step - loss: 0.0836 - accuracy: 0.9412\n",
            "Epoch 438/500\n",
            "1/1 [==============================] - 0s 2ms/step - loss: 0.0836 - accuracy: 0.9412\n",
            "Epoch 439/500\n",
            "1/1 [==============================] - 0s 1ms/step - loss: 0.0836 - accuracy: 0.9412\n",
            "Epoch 440/500\n",
            "1/1 [==============================] - 0s 3ms/step - loss: 0.0836 - accuracy: 0.9412\n",
            "Epoch 441/500\n",
            "1/1 [==============================] - 0s 2ms/step - loss: 0.0836 - accuracy: 0.9412\n",
            "Epoch 442/500\n",
            "1/1 [==============================] - 0s 4ms/step - loss: 0.0836 - accuracy: 0.9412\n",
            "Epoch 443/500\n",
            "1/1 [==============================] - 0s 1ms/step - loss: 0.0835 - accuracy: 0.9412\n",
            "Epoch 444/500\n",
            "1/1 [==============================] - 0s 3ms/step - loss: 0.0835 - accuracy: 0.9412\n",
            "Epoch 445/500\n",
            "1/1 [==============================] - 0s 2ms/step - loss: 0.0835 - accuracy: 0.9412\n",
            "Epoch 446/500\n",
            "1/1 [==============================] - 0s 4ms/step - loss: 0.0835 - accuracy: 0.9412\n",
            "Epoch 447/500\n",
            "1/1 [==============================] - 0s 2ms/step - loss: 0.0835 - accuracy: 0.9412\n",
            "Epoch 448/500\n",
            "1/1 [==============================] - 0s 2ms/step - loss: 0.0835 - accuracy: 0.9412\n",
            "Epoch 449/500\n",
            "1/1 [==============================] - 0s 2ms/step - loss: 0.0835 - accuracy: 0.9412\n",
            "Epoch 450/500\n",
            "1/1 [==============================] - 0s 1ms/step - loss: 0.0835 - accuracy: 0.9412\n",
            "Epoch 451/500\n",
            "1/1 [==============================] - 0s 3ms/step - loss: 0.0835 - accuracy: 0.9412\n",
            "Epoch 452/500\n",
            "1/1 [==============================] - 0s 1ms/step - loss: 0.0835 - accuracy: 0.9412\n",
            "Epoch 453/500\n",
            "1/1 [==============================] - 0s 1ms/step - loss: 0.0835 - accuracy: 0.9412\n",
            "Epoch 454/500\n",
            "1/1 [==============================] - 0s 2ms/step - loss: 0.0835 - accuracy: 0.9412\n",
            "Epoch 455/500\n",
            "1/1 [==============================] - 0s 1ms/step - loss: 0.0835 - accuracy: 0.9412\n",
            "Epoch 456/500\n",
            "1/1 [==============================] - 0s 2ms/step - loss: 0.0834 - accuracy: 0.9412\n",
            "Epoch 457/500\n",
            "1/1 [==============================] - 0s 2ms/step - loss: 0.0834 - accuracy: 0.9412\n",
            "Epoch 458/500\n",
            "1/1 [==============================] - 0s 2ms/step - loss: 0.0834 - accuracy: 0.9412\n",
            "Epoch 459/500\n",
            "1/1 [==============================] - 0s 3ms/step - loss: 0.0834 - accuracy: 0.9412\n",
            "Epoch 460/500\n",
            "1/1 [==============================] - 0s 1ms/step - loss: 0.0834 - accuracy: 0.9412\n",
            "Epoch 461/500\n",
            "1/1 [==============================] - 0s 3ms/step - loss: 0.0834 - accuracy: 0.9412\n",
            "Epoch 462/500\n",
            "1/1 [==============================] - 0s 2ms/step - loss: 0.0834 - accuracy: 0.9412\n",
            "Epoch 463/500\n",
            "1/1 [==============================] - 0s 1ms/step - loss: 0.0834 - accuracy: 0.9412\n",
            "Epoch 464/500\n",
            "1/1 [==============================] - 0s 1ms/step - loss: 0.0834 - accuracy: 0.9412\n",
            "Epoch 465/500\n",
            "1/1 [==============================] - 0s 2ms/step - loss: 0.0834 - accuracy: 0.9412\n",
            "Epoch 466/500\n",
            "1/1 [==============================] - 0s 3ms/step - loss: 0.0834 - accuracy: 0.9412\n",
            "Epoch 467/500\n",
            "1/1 [==============================] - 0s 2ms/step - loss: 0.0834 - accuracy: 0.9412\n",
            "Epoch 468/500\n",
            "1/1 [==============================] - 0s 3ms/step - loss: 0.0834 - accuracy: 0.9412\n",
            "Epoch 469/500\n",
            "1/1 [==============================] - 0s 3ms/step - loss: 0.0834 - accuracy: 0.9412\n",
            "Epoch 470/500\n",
            "1/1 [==============================] - 0s 3ms/step - loss: 0.0833 - accuracy: 0.9412\n",
            "Epoch 471/500\n",
            "1/1 [==============================] - 0s 3ms/step - loss: 0.0833 - accuracy: 0.9412\n",
            "Epoch 472/500\n",
            "1/1 [==============================] - 0s 2ms/step - loss: 0.0833 - accuracy: 0.9412\n",
            "Epoch 473/500\n",
            "1/1 [==============================] - 0s 2ms/step - loss: 0.0833 - accuracy: 0.9412\n",
            "Epoch 474/500\n",
            "1/1 [==============================] - 0s 3ms/step - loss: 0.0833 - accuracy: 0.9412\n",
            "Epoch 475/500\n",
            "1/1 [==============================] - 0s 2ms/step - loss: 0.0833 - accuracy: 0.9412\n",
            "Epoch 476/500\n",
            "1/1 [==============================] - 0s 2ms/step - loss: 0.0833 - accuracy: 0.9412\n",
            "Epoch 477/500\n",
            "1/1 [==============================] - 0s 3ms/step - loss: 0.0833 - accuracy: 0.9412\n",
            "Epoch 478/500\n",
            "1/1 [==============================] - 0s 3ms/step - loss: 0.0833 - accuracy: 0.9412\n",
            "Epoch 479/500\n",
            "1/1 [==============================] - 0s 3ms/step - loss: 0.0833 - accuracy: 0.9412\n",
            "Epoch 480/500\n",
            "1/1 [==============================] - 0s 2ms/step - loss: 0.0833 - accuracy: 0.9412\n",
            "Epoch 481/500\n",
            "1/1 [==============================] - 0s 4ms/step - loss: 0.0833 - accuracy: 0.9412\n",
            "Epoch 482/500\n",
            "1/1 [==============================] - 0s 3ms/step - loss: 0.0833 - accuracy: 0.9412\n",
            "Epoch 483/500\n",
            "1/1 [==============================] - 0s 3ms/step - loss: 0.0833 - accuracy: 0.9412\n",
            "Epoch 484/500\n",
            "1/1 [==============================] - 0s 3ms/step - loss: 0.0833 - accuracy: 0.9412\n",
            "Epoch 485/500\n",
            "1/1 [==============================] - 0s 2ms/step - loss: 0.0832 - accuracy: 0.9412\n",
            "Epoch 486/500\n",
            "1/1 [==============================] - 0s 1ms/step - loss: 0.0832 - accuracy: 0.9412\n",
            "Epoch 487/500\n",
            "1/1 [==============================] - 0s 1ms/step - loss: 0.0832 - accuracy: 0.9412\n",
            "Epoch 488/500\n",
            "1/1 [==============================] - 0s 1ms/step - loss: 0.0832 - accuracy: 0.9412\n",
            "Epoch 489/500\n",
            "1/1 [==============================] - 0s 1ms/step - loss: 0.0832 - accuracy: 0.9412\n",
            "Epoch 490/500\n",
            "1/1 [==============================] - 0s 1ms/step - loss: 0.0832 - accuracy: 0.9412\n",
            "Epoch 491/500\n",
            "1/1 [==============================] - 0s 2ms/step - loss: 0.0832 - accuracy: 0.9412\n",
            "Epoch 492/500\n",
            "1/1 [==============================] - 0s 2ms/step - loss: 0.0832 - accuracy: 0.9412\n",
            "Epoch 493/500\n",
            "1/1 [==============================] - 0s 2ms/step - loss: 0.0832 - accuracy: 0.9412\n",
            "Epoch 494/500\n",
            "1/1 [==============================] - 0s 2ms/step - loss: 0.0832 - accuracy: 0.9412\n",
            "Epoch 495/500\n",
            "1/1 [==============================] - 0s 3ms/step - loss: 0.0832 - accuracy: 0.9412\n",
            "Epoch 496/500\n",
            "1/1 [==============================] - 0s 3ms/step - loss: 0.0832 - accuracy: 0.9412\n",
            "Epoch 497/500\n",
            "1/1 [==============================] - 0s 3ms/step - loss: 0.0832 - accuracy: 0.9412\n",
            "Epoch 498/500\n",
            "1/1 [==============================] - 0s 1ms/step - loss: 0.0832 - accuracy: 0.9412\n",
            "Epoch 499/500\n",
            "1/1 [==============================] - 0s 2ms/step - loss: 0.0832 - accuracy: 0.9412\n",
            "Epoch 500/500\n",
            "1/1 [==============================] - 0s 1ms/step - loss: 0.0832 - accuracy: 0.9412\n"
          ],
          "name": "stdout"
        },
        {
          "output_type": "execute_result",
          "data": {
            "text/plain": [
              "<tensorflow.python.keras.callbacks.History at 0x7fd06b13fd30>"
            ]
          },
          "metadata": {
            "tags": []
          },
          "execution_count": 84
        }
      ]
    },
    {
      "cell_type": "code",
      "metadata": {
        "id": "peLTrB7AFhbe"
      },
      "source": [
        "ss=[\"in the town of athy one\",\"in the town of athy one jersey\",\"akshay working as\",\"akshay is\",\"mad\"]"
      ],
      "execution_count": null,
      "outputs": []
    },
    {
      "cell_type": "code",
      "metadata": {
        "id": "nRvcrZcAHRJI"
      },
      "source": [
        "ssq=t1.texts_to_sequences(ss)"
      ],
      "execution_count": null,
      "outputs": []
    },
    {
      "cell_type": "code",
      "metadata": {
        "id": "IYj5ZsrbHbaO"
      },
      "source": [
        "token_ssq1=pad_sequences(ssq,padding=\"pre\",maxlen=maxlen-1)"
      ],
      "execution_count": null,
      "outputs": []
    },
    {
      "cell_type": "code",
      "metadata": {
        "id": "jkSHMDScHnno"
      },
      "source": [
        "pr=model.predict_classes(token_ssq1)"
      ],
      "execution_count": null,
      "outputs": []
    },
    {
      "cell_type": "code",
      "metadata": {
        "id": "gAddOr8pHsHx",
        "colab": {
          "base_uri": "https://localhost:8080/",
          "height": 35
        },
        "outputId": "77d0edb4-a3a6-4061-c3d3-a94e20719748"
      },
      "source": [
        "token_ssq1.shape"
      ],
      "execution_count": null,
      "outputs": [
        {
          "output_type": "execute_result",
          "data": {
            "text/plain": [
              "(5, 7)"
            ]
          },
          "metadata": {
            "tags": []
          },
          "execution_count": 112
        }
      ]
    },
    {
      "cell_type": "code",
      "metadata": {
        "id": "rf_-5rejIjxN",
        "colab": {
          "base_uri": "https://localhost:8080/",
          "height": 35
        },
        "outputId": "293ad708-0752-481b-fa02-0628671ca442"
      },
      "source": [
        "pr"
      ],
      "execution_count": null,
      "outputs": [
        {
          "output_type": "execute_result",
          "data": {
            "text/plain": [
              "array([ 7,  9, 18, 16, 20])"
            ]
          },
          "metadata": {
            "tags": []
          },
          "execution_count": 113
        }
      ]
    },
    {
      "cell_type": "code",
      "metadata": {
        "id": "8P7ODCJBI0gZ",
        "colab": {
          "base_uri": "https://localhost:8080/",
          "height": 384
        },
        "outputId": "42067cef-1c2a-4067-e5bc-0c455baf7e66"
      },
      "source": [
        "t1.word_index"
      ],
      "execution_count": null,
      "outputs": [
        {
          "output_type": "execute_result",
          "data": {
            "text/plain": [
              "{'akshay': 1,\n",
              " 'as': 17,\n",
              " 'athy': 6,\n",
              " 'away': 11,\n",
              " 'battered': 10,\n",
              " 'didnt': 14,\n",
              " 'engineer': 18,\n",
              " 'find': 15,\n",
              " 'gone': 19,\n",
              " 'he': 13,\n",
              " 'in': 2,\n",
              " 'jersey': 8,\n",
              " 'langing': 9,\n",
              " 'mad': 20,\n",
              " 'of': 5,\n",
              " 'one': 7,\n",
              " 'the': 3,\n",
              " 'till': 12,\n",
              " 'town': 4,\n",
              " 'working': 16}"
            ]
          },
          "metadata": {
            "tags": []
          },
          "execution_count": 90
        }
      ]
    },
    {
      "cell_type": "code",
      "metadata": {
        "id": "ksSXk2uoI538"
      },
      "source": [],
      "execution_count": null,
      "outputs": []
    }
  ]
}